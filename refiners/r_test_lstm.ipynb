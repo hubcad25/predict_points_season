{
 "cells": [
  {
   "cell_type": "code",
   "execution_count": 1,
   "metadata": {
    "vscode": {
     "languageId": "python"
    }
   },
   "outputs": [
    {
     "name": "stdout",
     "output_type": "stream",
     "text": [
      "\n",
      "Attaching package: ‘dplyr’\n",
      "\n",
      "The following objects are masked from ‘package:stats’:\n",
      "\n",
      "    filter, lag\n",
      "\n",
      "The following objects are masked from ‘package:base’:\n",
      "\n",
      "    intersect, setdiff, setequal,\n",
      "    union\n",
      "\n",
      "\n",
      "\n",
      "Attaching package: ‘dplyr’\n",
      "\n",
      "The following objects are masked from ‘package:stats’:\n",
      "\n",
      "    filter, lag\n",
      "\n",
      "The following objects are masked from ‘package:base’:\n",
      "\n",
      "    intersect, setdiff, setequal,\n",
      "    union\n",
      "\n"
     ]
    }
   ],
   "source": [
    "library(dplyr)\n",
    "library(keras)\n",
    "library(tensorflow)"
   ]
  },
  {
   "cell_type": "code",
   "execution_count": null,
   "metadata": {
    "vscode": {
     "languageId": "python"
    }
   },
   "outputs": [],
   "source": [
    "data <- readRDS(\"data/warehouse/test_lstm.rds\")\n",
    "\n",
    "# Convertir les past_stats en une matrice et diviser en train/test\n",
    "X_data <- array(NA, dim = c(nrow(data), 3, length(data$past_stats[[1]])))\n",
    "for (i in 1:nrow(data)) {\n",
    "  X_data[i,,] <- as.matrix(unlist(data$past_stats[[i]]))\n",
    "}\n",
    "\n",
    "# Extraire les autres variables (age, draft_rank, height) et les répéter 3 fois pour chaque timestep\n",
    "X_additional <- aperm(\n",
    "  array(\n",
    "    rep(array(unlist(data[, c(\"age\", \"draft_rank\", \"height\")])), times = 3),\n",
    "    dim = c(nrow(data), ncol(data[, c(\"age\", \"draft_rank\", \"height\")]), 3)\n",
    "  ),\n",
    "  perm = c(1, 3, 2)\n",
    ")\n",
    "\n",
    "# Combiner les deux matrices en ajoutant les variables supplémentaires à la dimension des features\n",
    "X <- array(c(X_data, X_additional), dim = c(dim(X_data)[1], dim(X_data)[2], dim(X_data)[3] + dim(X_additional)[3]))\n",
    "\n",
    "# La variable cible : game_score\n",
    "y <- as.matrix(data$game_score)"
   ]
  },
  {
   "cell_type": "code",
   "execution_count": null,
   "metadata": {
    "vscode": {
     "languageId": "python"
    }
   },
   "outputs": [],
   "source": [
    "# Train model ------------------------------------------------------------\n",
    "\n",
    "input_layer <- layer_input(shape = c(3, ncol(X)))  # Déclare l'entrée explicitement\n",
    "\n",
    "output_layer <- input_layer %>%\n",
    "  layer_lstm(units = 50, return_sequences = FALSE) %>%\n",
    "  layer_dense(units = 1)\n",
    "\n",
    "model <- keras_model(inputs = input_layer, outputs = output_layer)\n",
    "\n",
    "# Compilation du modèle\n",
    "model %>% compile(\n",
    "  loss = 'mean_squared_error',\n",
    "  optimizer = 'adam'\n",
    ")"
   ]
  }
 ],
 "metadata": {
  "language_info": {
   "name": "r"
  }
 },
 "nbformat": 4,
 "nbformat_minor": 2
}
