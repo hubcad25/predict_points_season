{
 "cells": [
  {
   "cell_type": "code",
   "execution_count": 1,
   "metadata": {},
   "outputs": [
    {
     "name": "stderr",
     "output_type": "stream",
     "text": [
      "2024-09-15 12:23:28.226027: I tensorflow/core/util/port.cc:153] oneDNN custom operations are on. You may see slightly different numerical results due to floating-point round-off errors from different computation orders. To turn them off, set the environment variable `TF_ENABLE_ONEDNN_OPTS=0`.\n",
      "2024-09-15 12:23:28.230301: I external/local_xla/xla/tsl/cuda/cudart_stub.cc:32] Could not find cuda drivers on your machine, GPU will not be used.\n",
      "2024-09-15 12:23:28.273366: I external/local_xla/xla/tsl/cuda/cudart_stub.cc:32] Could not find cuda drivers on your machine, GPU will not be used.\n",
      "2024-09-15 12:23:28.315827: E external/local_xla/xla/stream_executor/cuda/cuda_fft.cc:485] Unable to register cuFFT factory: Attempting to register factory for plugin cuFFT when one has already been registered\n",
      "2024-09-15 12:23:28.351035: E external/local_xla/xla/stream_executor/cuda/cuda_dnn.cc:8454] Unable to register cuDNN factory: Attempting to register factory for plugin cuDNN when one has already been registered\n",
      "2024-09-15 12:23:28.362004: E external/local_xla/xla/stream_executor/cuda/cuda_blas.cc:1452] Unable to register cuBLAS factory: Attempting to register factory for plugin cuBLAS when one has already been registered\n",
      "2024-09-15 12:23:28.416261: I tensorflow/core/platform/cpu_feature_guard.cc:210] This TensorFlow binary is optimized to use available CPU instructions in performance-critical operations.\n",
      "To enable the following instructions: AVX2 AVX_VNNI FMA, in other operations, rebuild TensorFlow with the appropriate compiler flags.\n"
     ]
    },
    {
     "name": "stderr",
     "output_type": "stream",
     "text": [
      "2024-09-15 12:23:29.153102: W tensorflow/compiler/tf2tensorrt/utils/py_utils.cc:38] TF-TRT Warning: Could not find TensorRT\n"
     ]
    }
   ],
   "source": [
    "import numpy as np\n",
    "import tensorflow as tf\n",
    "import json\n",
    "from sklearn.model_selection import train_test_split\n",
    "from tensorflow.keras.models import Model\n",
    "from tensorflow.keras.layers import Input, LSTM, Dense, Concatenate"
   ]
  },
  {
   "cell_type": "code",
   "execution_count": 2,
   "metadata": {},
   "outputs": [
    {
     "name": "stdout",
     "output_type": "stream",
     "text": [
      "Taille de l'ensemble d'entraînement : 148\n",
      "Taille de l'ensemble de test : 2\n",
      "{'player1': {'past': [13, 13], 'target': 20, 'age': 34, 'height': 174}, 'player2': {'past': [2, 10, 7, 14, 13, 16, 7, 9], 'target': 7, 'age': 38, 'height': 174}, 'player3': {'past': [1, 16, 13, 5, 1, 19, 6], 'target': 8, 'age': 22, 'height': 174}, 'player4': {'past': [6, 3, 10, 19], 'target': 4, 'age': 25, 'height': 183}, 'player5': {'past': [3, 1, 16, 18, 16, 16, 16, 19, 4], 'target': 16, 'age': 24, 'height': 177}, 'player6': {'past': [13, 12, 9, 17, 3, 16, 14], 'target': 14, 'age': 28, 'height': 190}, 'player7': {'past': [1, 9, 15, 11, 5], 'target': 12, 'age': 38, 'height': 192}, 'player8': {'past': [18, 13, 7, 5, 6, 9, 10, 6, 19, 12], 'target': 12, 'age': 31, 'height': 183}, 'player9': {'past': [4, 14], 'target': 16, 'age': 26, 'height': 177}, 'player10': {'past': [3, 8, 3, 18, 13, 12, 3, 16, 18], 'target': 17, 'age': 32, 'height': 195}, 'player11': {'past': [6, 2, 4, 9], 'target': 1, 'age': 26, 'height': 191}, 'player12': {'past': [8, 18, 16, 16], 'target': 15, 'age': 26, 'height': 198}, 'player13': {'past': [8, 16, 9, 1, 19, 14, 15], 'target': 8, 'age': 28, 'height': 193}, 'player14': {'past': [17, 7, 6, 18, 1], 'target': 9, 'age': 36, 'height': 173}, 'player15': {'past': [16], 'target': 10, 'age': 27, 'height': 171}, 'player16': {'past': [13], 'target': 6, 'age': 33, 'height': 196}, 'player17': {'past': [17, 8, 17, 12, 8, 16, 5, 17, 6], 'target': 7, 'age': 40, 'height': 178}, 'player18': {'past': [2, 10], 'target': 6, 'age': 22, 'height': 180}, 'player19': {'past': [17, 17, 11, 11, 4, 12, 7, 14, 11, 7], 'target': 12, 'age': 20, 'height': 191}, 'player20': {'past': [6, 18, 19, 5, 13], 'target': 11, 'age': 39, 'height': 198}, 'player21': {'past': [9, 15, 17, 11, 6], 'target': 7, 'age': 37, 'height': 185}, 'player22': {'past': [9, 11, 15, 15, 5, 7], 'target': 16, 'age': 30, 'height': 192}, 'player23': {'past': [12], 'target': 6, 'age': 36, 'height': 177}, 'player24': {'past': [2, 10, 17, 5, 1, 9, 2], 'target': 11, 'age': 37, 'height': 197}, 'player25': {'past': [5, 1], 'target': 10, 'age': 19, 'height': 194}, 'player26': {'past': [13, 19, 1], 'target': 5, 'age': 18, 'height': 174}, 'player27': {'past': [13, 15, 5, 6, 1, 10, 1, 2, 4], 'target': 7, 'age': 24, 'height': 190}, 'player28': {'past': [6, 3, 7, 19, 8, 9, 16], 'target': 9, 'age': 18, 'height': 181}, 'player29': {'past': [9, 17, 10, 5, 2, 6, 18], 'target': 16, 'age': 36, 'height': 186}, 'player30': {'past': [2, 1, 17, 16], 'target': 2, 'age': 38, 'height': 181}, 'player31': {'past': [1, 18, 7, 12, 6, 6, 6, 18], 'target': 18, 'age': 35, 'height': 186}, 'player32': {'past': [12, 14, 1, 13, 12, 11, 10, 16, 19], 'target': 17, 'age': 30, 'height': 197}, 'player33': {'past': [9, 4, 1, 5], 'target': 13, 'age': 21, 'height': 176}, 'player34': {'past': [14, 18, 19, 3, 9, 17, 8, 15], 'target': 19, 'age': 18, 'height': 199}, 'player35': {'past': [5, 1], 'target': 5, 'age': 26, 'height': 186}, 'player36': {'past': [5, 7, 8, 2, 12, 12, 19], 'target': 14, 'age': 33, 'height': 177}, 'player37': {'past': [8, 18, 12, 7, 5, 10, 9], 'target': 14, 'age': 20, 'height': 183}, 'player38': {'past': [13, 8, 8, 7, 16, 2, 16, 17, 4, 6], 'target': 4, 'age': 25, 'height': 196}, 'player39': {'past': [2, 15, 19, 14, 5, 1, 15, 10, 13], 'target': 12, 'age': 24, 'height': 189}, 'player40': {'past': [3, 16], 'target': 15, 'age': 30, 'height': 182}, 'player41': {'past': [19, 5, 9], 'target': 17, 'age': 39, 'height': 172}, 'player42': {'past': [3, 2, 7, 13, 14, 9], 'target': 8, 'age': 19, 'height': 182}, 'player43': {'past': [16, 10], 'target': 8, 'age': 35, 'height': 176}, 'player44': {'past': [3, 7, 6, 19, 1, 10, 5, 8, 18, 5], 'target': 16, 'age': 31, 'height': 189}, 'player45': {'past': [8, 3, 9, 18, 13, 11, 11, 1, 8, 8], 'target': 18, 'age': 22, 'height': 192}, 'player46': {'past': [7], 'target': 18, 'age': 21, 'height': 197}, 'player47': {'past': [12, 6, 11, 11, 7, 2, 9], 'target': 8, 'age': 19, 'height': 190}, 'player48': {'past': [13, 2, 11, 3, 13, 15, 1, 8, 18, 4], 'target': 15, 'age': 25, 'height': 174}, 'player49': {'past': [19, 6, 8, 9, 11, 6, 5], 'target': 4, 'age': 24, 'height': 197}, 'player50': {'past': [7, 8, 19], 'target': 12, 'age': 36, 'height': 198}, 'player51': {'past': [10, 10], 'target': 10, 'age': 33, 'height': 172}, 'player52': {'past': [4, 10, 12, 19], 'target': 2, 'age': 33, 'height': 185}, 'player53': {'past': [15, 16, 3, 8, 17, 9, 4, 19, 4, 12], 'target': 14, 'age': 29, 'height': 176}, 'player54': {'past': [15, 2, 11, 7, 17, 10, 6, 9], 'target': 10, 'age': 36, 'height': 199}, 'player55': {'past': [13, 9, 11, 10, 9, 3, 16, 16, 12], 'target': 2, 'age': 38, 'height': 176}, 'player56': {'past': [10, 15, 13, 19], 'target': 10, 'age': 40, 'height': 171}, 'player57': {'past': [18, 9], 'target': 16, 'age': 20, 'height': 183}, 'player58': {'past': [19, 13, 8, 14, 6, 17, 11], 'target': 11, 'age': 33, 'height': 200}, 'player59': {'past': [18, 8, 16], 'target': 11, 'age': 19, 'height': 179}, 'player60': {'past': [3, 18, 18, 2, 2, 10, 18, 9], 'target': 12, 'age': 40, 'height': 182}, 'player61': {'past': [14, 6], 'target': 8, 'age': 28, 'height': 183}, 'player62': {'past': [14, 8, 13, 10, 5, 11, 15], 'target': 19, 'age': 35, 'height': 182}, 'player63': {'past': [13, 18, 14, 3, 1, 5], 'target': 14, 'age': 30, 'height': 182}, 'player64': {'past': [19, 8, 4, 4, 4], 'target': 14, 'age': 21, 'height': 185}, 'player65': {'past': [4, 17, 15, 5, 7, 17, 15], 'target': 12, 'age': 30, 'height': 179}, 'player66': {'past': [10, 11, 9, 9, 12, 18, 19, 11], 'target': 17, 'age': 40, 'height': 174}, 'player67': {'past': [16, 16, 16, 19, 10, 19, 3], 'target': 15, 'age': 29, 'height': 193}, 'player68': {'past': [9, 5, 17, 5, 6, 17, 8, 13, 1, 6], 'target': 7, 'age': 27, 'height': 190}, 'player69': {'past': [6], 'target': 17, 'age': 39, 'height': 172}, 'player70': {'past': [6, 16], 'target': 13, 'age': 27, 'height': 195}, 'player71': {'past': [6, 13, 9, 18, 5, 3, 3], 'target': 3, 'age': 32, 'height': 176}, 'player72': {'past': [19, 13, 7, 7], 'target': 10, 'age': 37, 'height': 196}, 'player73': {'past': [17, 5, 18, 5, 4, 11, 18, 14], 'target': 7, 'age': 18, 'height': 173}, 'player74': {'past': [12, 15, 17, 7, 14, 19, 13], 'target': 12, 'age': 31, 'height': 178}, 'player75': {'past': [15, 8, 14, 9, 15, 16, 10, 5], 'target': 15, 'age': 30, 'height': 200}, 'player76': {'past': [16, 16, 4], 'target': 17, 'age': 30, 'height': 184}, 'player77': {'past': [16, 7], 'target': 18, 'age': 18, 'height': 173}, 'player78': {'past': [9, 2, 18, 17, 7, 6], 'target': 1, 'age': 30, 'height': 176}, 'player79': {'past': [18, 19, 5, 8, 5, 12, 9], 'target': 15, 'age': 36, 'height': 190}, 'player80': {'past': [11, 17, 3, 19, 14, 6, 12, 3, 12], 'target': 7, 'age': 19, 'height': 174}, 'player81': {'past': [11, 3], 'target': 5, 'age': 25, 'height': 181}, 'player82': {'past': [7, 12, 14], 'target': 12, 'age': 36, 'height': 184}, 'player83': {'past': [1, 2, 15], 'target': 6, 'age': 23, 'height': 180}, 'player84': {'past': [9, 9, 2, 13, 9, 8], 'target': 12, 'age': 36, 'height': 190}, 'player85': {'past': [1, 12, 5, 9, 17, 12, 14, 10, 8, 7], 'target': 4, 'age': 39, 'height': 197}, 'player86': {'past': [5, 1, 9, 11], 'target': 10, 'age': 32, 'height': 170}, 'player87': {'past': [3, 17, 1], 'target': 19, 'age': 24, 'height': 174}, 'player88': {'past': [5, 18, 3, 8, 9, 3, 2, 19], 'target': 4, 'age': 28, 'height': 189}, 'player89': {'past': [13, 8, 12, 11, 17, 13, 1], 'target': 6, 'age': 30, 'height': 176}, 'player90': {'past': [6, 1, 2, 11], 'target': 9, 'age': 40, 'height': 199}, 'player91': {'past': [12], 'target': 11, 'age': 22, 'height': 185}, 'player92': {'past': [5, 12, 1, 8, 14], 'target': 9, 'age': 21, 'height': 178}, 'player93': {'past': [13, 2, 11, 18, 1, 14], 'target': 15, 'age': 24, 'height': 176}, 'player94': {'past': [3, 14], 'target': 3, 'age': 30, 'height': 182}, 'player95': {'past': [15, 5, 17, 2, 3, 11, 12, 4, 18], 'target': 8, 'age': 35, 'height': 198}, 'player96': {'past': [3, 18, 5, 4, 9, 9, 10, 18, 3, 2], 'target': 15, 'age': 29, 'height': 180}, 'player97': {'past': [15, 11, 4], 'target': 16, 'age': 25, 'height': 196}, 'player98': {'past': [14, 19, 12, 18], 'target': 13, 'age': 32, 'height': 197}, 'player99': {'past': [4, 14, 9, 14], 'target': 12, 'age': 31, 'height': 190}, 'player100': {'past': [6], 'target': 4, 'age': 27, 'height': 179}, 'player101': {'past': [12, 10, 10, 11], 'target': 18, 'age': 19, 'height': 172}, 'player102': {'past': [6, 1, 12, 17, 4, 3, 5, 14], 'target': 7, 'age': 29, 'height': 193}, 'player103': {'past': [2, 11, 2, 15, 4, 10, 8, 6, 16, 8], 'target': 7, 'age': 35, 'height': 180}, 'player104': {'past': [12], 'target': 9, 'age': 22, 'height': 186}, 'player105': {'past': [2, 13, 4, 14], 'target': 7, 'age': 38, 'height': 195}, 'player106': {'past': [15, 2, 8, 3, 9, 17, 6, 9], 'target': 17, 'age': 20, 'height': 174}, 'player107': {'past': [18, 4, 15, 12, 17, 10, 17, 12], 'target': 13, 'age': 25, 'height': 173}, 'player108': {'past': [11, 12, 17, 6, 11, 6], 'target': 9, 'age': 32, 'height': 195}, 'player109': {'past': [11], 'target': 9, 'age': 19, 'height': 180}, 'player110': {'past': [3, 15, 11, 13, 2, 9, 5, 9, 15, 9], 'target': 9, 'age': 19, 'height': 177}, 'player111': {'past': [17, 7, 11, 18, 12, 5, 5, 2, 10, 1], 'target': 13, 'age': 35, 'height': 189}, 'player112': {'past': [6, 7, 16], 'target': 12, 'age': 30, 'height': 200}, 'player113': {'past': [1, 7, 9, 18], 'target': 4, 'age': 31, 'height': 198}, 'player114': {'past': [3, 9, 6, 17, 7, 8, 3, 19, 3], 'target': 3, 'age': 25, 'height': 183}, 'player115': {'past': [10, 6, 6, 12, 4, 17, 17, 9, 9, 6], 'target': 7, 'age': 22, 'height': 177}, 'player116': {'past': [17], 'target': 3, 'age': 40, 'height': 188}, 'player117': {'past': [19, 10, 17, 8, 1, 3], 'target': 17, 'age': 23, 'height': 182}, 'player118': {'past': [16, 5, 14], 'target': 14, 'age': 19, 'height': 179}, 'player119': {'past': [16, 18, 10, 4, 13, 12, 9, 6, 1], 'target': 20, 'age': 19, 'height': 174}, 'player120': {'past': [14, 4, 12, 13, 14, 1, 8, 15, 11, 2], 'target': 5, 'age': 40, 'height': 173}, 'player121': {'past': [5, 2, 10, 1, 6, 18], 'target': 13, 'age': 38, 'height': 191}, 'player122': {'past': [9, 14, 10, 13, 13, 9], 'target': 15, 'age': 36, 'height': 195}, 'player123': {'past': [17, 11, 1], 'target': 12, 'age': 26, 'height': 185}, 'player124': {'past': [18, 1, 17, 6, 9, 3], 'target': 12, 'age': 20, 'height': 187}, 'player125': {'past': [19, 13], 'target': 20, 'age': 38, 'height': 193}, 'player126': {'past': [11, 13, 2, 2], 'target': 19, 'age': 19, 'height': 186}, 'player127': {'past': [19, 11], 'target': 14, 'age': 31, 'height': 175}, 'player128': {'past': [8, 10, 11, 18, 19], 'target': 5, 'age': 38, 'height': 186}, 'player129': {'past': [14, 15, 5, 6, 5, 16, 3, 5, 8, 11], 'target': 1, 'age': 33, 'height': 173}, 'player130': {'past': [16, 8], 'target': 3, 'age': 22, 'height': 181}, 'player131': {'past': [2, 9, 14, 14], 'target': 9, 'age': 32, 'height': 170}, 'player132': {'past': [7, 16, 11, 12], 'target': 14, 'age': 32, 'height': 186}, 'player133': {'past': [7, 7, 13], 'target': 7, 'age': 21, 'height': 179}, 'player134': {'past': [4, 12, 1, 2, 16, 11, 2, 3, 1, 11], 'target': 12, 'age': 21, 'height': 199}, 'player135': {'past': [6, 5, 2, 10, 6, 8], 'target': 16, 'age': 38, 'height': 178}, 'player136': {'past': [15, 17, 2, 15, 14, 1, 18], 'target': 12, 'age': 29, 'height': 181}, 'player137': {'past': [2], 'target': 12, 'age': 40, 'height': 183}, 'player138': {'past': [3, 16, 15, 12, 8, 7, 12], 'target': 12, 'age': 30, 'height': 176}, 'player139': {'past': [17, 6, 7, 1], 'target': 5, 'age': 36, 'height': 184}, 'player140': {'past': [13, 4, 16, 11, 3, 3], 'target': 17, 'age': 18, 'height': 185}, 'player141': {'past': [11, 13, 17, 17], 'target': 15, 'age': 29, 'height': 174}, 'player142': {'past': [1, 10, 11, 1, 3, 5, 10, 1, 8, 8], 'target': 8, 'age': 18, 'height': 184}, 'player143': {'past': [2, 18, 17], 'target': 19, 'age': 32, 'height': 180}, 'player144': {'past': [13, 11, 16, 6], 'target': 5, 'age': 35, 'height': 177}, 'player145': {'past': [1, 7, 19, 19, 6, 5, 5, 16, 11, 18], 'target': 15, 'age': 23, 'height': 174}, 'player146': {'past': [10, 3, 12, 19, 12], 'target': 19, 'age': 36, 'height': 200}, 'player147': {'past': [17, 2, 6, 8, 12, 2], 'target': 11, 'age': 20, 'height': 171}, 'player148': {'past': [1, 9], 'target': 5, 'age': 25, 'height': 172}, 'player149': {'past': [8, 4, 4, 12, 18, 1, 18], 'target': 11, 'age': 33, 'height': 193}, 'player150': {'past': [4, 5, 19, 11, 17, 9, 15, 7], 'target': 5, 'age': 36, 'height': 197}}\n",
      "Taille de l'ensemble d'entraînement : 148\n",
      "Taille de l'ensemble de test : 2\n",
      "{'player1': {'past': [13, 13], 'target': 20, 'age': 34, 'height': 174}, 'player2': {'past': [2, 10, 7, 14, 13, 16, 7, 9], 'target': 7, 'age': 38, 'height': 174}, 'player3': {'past': [1, 16, 13, 5, 1, 19, 6], 'target': 8, 'age': 22, 'height': 174}, 'player4': {'past': [6, 3, 10, 19], 'target': 4, 'age': 25, 'height': 183}, 'player5': {'past': [3, 1, 16, 18, 16, 16, 16, 19, 4], 'target': 16, 'age': 24, 'height': 177}, 'player6': {'past': [13, 12, 9, 17, 3, 16, 14], 'target': 14, 'age': 28, 'height': 190}, 'player7': {'past': [1, 9, 15, 11, 5], 'target': 12, 'age': 38, 'height': 192}, 'player8': {'past': [18, 13, 7, 5, 6, 9, 10, 6, 19, 12], 'target': 12, 'age': 31, 'height': 183}, 'player9': {'past': [4, 14], 'target': 16, 'age': 26, 'height': 177}, 'player10': {'past': [3, 8, 3, 18, 13, 12, 3, 16, 18], 'target': 17, 'age': 32, 'height': 195}, 'player11': {'past': [6, 2, 4, 9], 'target': 1, 'age': 26, 'height': 191}, 'player12': {'past': [8, 18, 16, 16], 'target': 15, 'age': 26, 'height': 198}, 'player13': {'past': [8, 16, 9, 1, 19, 14, 15], 'target': 8, 'age': 28, 'height': 193}, 'player14': {'past': [17, 7, 6, 18, 1], 'target': 9, 'age': 36, 'height': 173}, 'player15': {'past': [16], 'target': 10, 'age': 27, 'height': 171}, 'player16': {'past': [13], 'target': 6, 'age': 33, 'height': 196}, 'player17': {'past': [17, 8, 17, 12, 8, 16, 5, 17, 6], 'target': 7, 'age': 40, 'height': 178}, 'player18': {'past': [2, 10], 'target': 6, 'age': 22, 'height': 180}, 'player19': {'past': [17, 17, 11, 11, 4, 12, 7, 14, 11, 7], 'target': 12, 'age': 20, 'height': 191}, 'player20': {'past': [6, 18, 19, 5, 13], 'target': 11, 'age': 39, 'height': 198}, 'player21': {'past': [9, 15, 17, 11, 6], 'target': 7, 'age': 37, 'height': 185}, 'player22': {'past': [9, 11, 15, 15, 5, 7], 'target': 16, 'age': 30, 'height': 192}, 'player23': {'past': [12], 'target': 6, 'age': 36, 'height': 177}, 'player24': {'past': [2, 10, 17, 5, 1, 9, 2], 'target': 11, 'age': 37, 'height': 197}, 'player25': {'past': [5, 1], 'target': 10, 'age': 19, 'height': 194}, 'player26': {'past': [13, 19, 1], 'target': 5, 'age': 18, 'height': 174}, 'player27': {'past': [13, 15, 5, 6, 1, 10, 1, 2, 4], 'target': 7, 'age': 24, 'height': 190}, 'player28': {'past': [6, 3, 7, 19, 8, 9, 16], 'target': 9, 'age': 18, 'height': 181}, 'player29': {'past': [9, 17, 10, 5, 2, 6, 18], 'target': 16, 'age': 36, 'height': 186}, 'player30': {'past': [2, 1, 17, 16], 'target': 2, 'age': 38, 'height': 181}, 'player31': {'past': [1, 18, 7, 12, 6, 6, 6, 18], 'target': 18, 'age': 35, 'height': 186}, 'player32': {'past': [12, 14, 1, 13, 12, 11, 10, 16, 19], 'target': 17, 'age': 30, 'height': 197}, 'player33': {'past': [9, 4, 1, 5], 'target': 13, 'age': 21, 'height': 176}, 'player34': {'past': [14, 18, 19, 3, 9, 17, 8, 15], 'target': 19, 'age': 18, 'height': 199}, 'player35': {'past': [5, 1], 'target': 5, 'age': 26, 'height': 186}, 'player36': {'past': [5, 7, 8, 2, 12, 12, 19], 'target': 14, 'age': 33, 'height': 177}, 'player37': {'past': [8, 18, 12, 7, 5, 10, 9], 'target': 14, 'age': 20, 'height': 183}, 'player38': {'past': [13, 8, 8, 7, 16, 2, 16, 17, 4, 6], 'target': 4, 'age': 25, 'height': 196}, 'player39': {'past': [2, 15, 19, 14, 5, 1, 15, 10, 13], 'target': 12, 'age': 24, 'height': 189}, 'player40': {'past': [3, 16], 'target': 15, 'age': 30, 'height': 182}, 'player41': {'past': [19, 5, 9], 'target': 17, 'age': 39, 'height': 172}, 'player42': {'past': [3, 2, 7, 13, 14, 9], 'target': 8, 'age': 19, 'height': 182}, 'player43': {'past': [16, 10], 'target': 8, 'age': 35, 'height': 176}, 'player44': {'past': [3, 7, 6, 19, 1, 10, 5, 8, 18, 5], 'target': 16, 'age': 31, 'height': 189}, 'player45': {'past': [8, 3, 9, 18, 13, 11, 11, 1, 8, 8], 'target': 18, 'age': 22, 'height': 192}, 'player46': {'past': [7], 'target': 18, 'age': 21, 'height': 197}, 'player47': {'past': [12, 6, 11, 11, 7, 2, 9], 'target': 8, 'age': 19, 'height': 190}, 'player48': {'past': [13, 2, 11, 3, 13, 15, 1, 8, 18, 4], 'target': 15, 'age': 25, 'height': 174}, 'player49': {'past': [19, 6, 8, 9, 11, 6, 5], 'target': 4, 'age': 24, 'height': 197}, 'player50': {'past': [7, 8, 19], 'target': 12, 'age': 36, 'height': 198}, 'player51': {'past': [10, 10], 'target': 10, 'age': 33, 'height': 172}, 'player52': {'past': [4, 10, 12, 19], 'target': 2, 'age': 33, 'height': 185}, 'player53': {'past': [15, 16, 3, 8, 17, 9, 4, 19, 4, 12], 'target': 14, 'age': 29, 'height': 176}, 'player54': {'past': [15, 2, 11, 7, 17, 10, 6, 9], 'target': 10, 'age': 36, 'height': 199}, 'player55': {'past': [13, 9, 11, 10, 9, 3, 16, 16, 12], 'target': 2, 'age': 38, 'height': 176}, 'player56': {'past': [10, 15, 13, 19], 'target': 10, 'age': 40, 'height': 171}, 'player57': {'past': [18, 9], 'target': 16, 'age': 20, 'height': 183}, 'player58': {'past': [19, 13, 8, 14, 6, 17, 11], 'target': 11, 'age': 33, 'height': 200}, 'player59': {'past': [18, 8, 16], 'target': 11, 'age': 19, 'height': 179}, 'player60': {'past': [3, 18, 18, 2, 2, 10, 18, 9], 'target': 12, 'age': 40, 'height': 182}, 'player61': {'past': [14, 6], 'target': 8, 'age': 28, 'height': 183}, 'player62': {'past': [14, 8, 13, 10, 5, 11, 15], 'target': 19, 'age': 35, 'height': 182}, 'player63': {'past': [13, 18, 14, 3, 1, 5], 'target': 14, 'age': 30, 'height': 182}, 'player64': {'past': [19, 8, 4, 4, 4], 'target': 14, 'age': 21, 'height': 185}, 'player65': {'past': [4, 17, 15, 5, 7, 17, 15], 'target': 12, 'age': 30, 'height': 179}, 'player66': {'past': [10, 11, 9, 9, 12, 18, 19, 11], 'target': 17, 'age': 40, 'height': 174}, 'player67': {'past': [16, 16, 16, 19, 10, 19, 3], 'target': 15, 'age': 29, 'height': 193}, 'player68': {'past': [9, 5, 17, 5, 6, 17, 8, 13, 1, 6], 'target': 7, 'age': 27, 'height': 190}, 'player69': {'past': [6], 'target': 17, 'age': 39, 'height': 172}, 'player70': {'past': [6, 16], 'target': 13, 'age': 27, 'height': 195}, 'player71': {'past': [6, 13, 9, 18, 5, 3, 3], 'target': 3, 'age': 32, 'height': 176}, 'player72': {'past': [19, 13, 7, 7], 'target': 10, 'age': 37, 'height': 196}, 'player73': {'past': [17, 5, 18, 5, 4, 11, 18, 14], 'target': 7, 'age': 18, 'height': 173}, 'player74': {'past': [12, 15, 17, 7, 14, 19, 13], 'target': 12, 'age': 31, 'height': 178}, 'player75': {'past': [15, 8, 14, 9, 15, 16, 10, 5], 'target': 15, 'age': 30, 'height': 200}, 'player76': {'past': [16, 16, 4], 'target': 17, 'age': 30, 'height': 184}, 'player77': {'past': [16, 7], 'target': 18, 'age': 18, 'height': 173}, 'player78': {'past': [9, 2, 18, 17, 7, 6], 'target': 1, 'age': 30, 'height': 176}, 'player79': {'past': [18, 19, 5, 8, 5, 12, 9], 'target': 15, 'age': 36, 'height': 190}, 'player80': {'past': [11, 17, 3, 19, 14, 6, 12, 3, 12], 'target': 7, 'age': 19, 'height': 174}, 'player81': {'past': [11, 3], 'target': 5, 'age': 25, 'height': 181}, 'player82': {'past': [7, 12, 14], 'target': 12, 'age': 36, 'height': 184}, 'player83': {'past': [1, 2, 15], 'target': 6, 'age': 23, 'height': 180}, 'player84': {'past': [9, 9, 2, 13, 9, 8], 'target': 12, 'age': 36, 'height': 190}, 'player85': {'past': [1, 12, 5, 9, 17, 12, 14, 10, 8, 7], 'target': 4, 'age': 39, 'height': 197}, 'player86': {'past': [5, 1, 9, 11], 'target': 10, 'age': 32, 'height': 170}, 'player87': {'past': [3, 17, 1], 'target': 19, 'age': 24, 'height': 174}, 'player88': {'past': [5, 18, 3, 8, 9, 3, 2, 19], 'target': 4, 'age': 28, 'height': 189}, 'player89': {'past': [13, 8, 12, 11, 17, 13, 1], 'target': 6, 'age': 30, 'height': 176}, 'player90': {'past': [6, 1, 2, 11], 'target': 9, 'age': 40, 'height': 199}, 'player91': {'past': [12], 'target': 11, 'age': 22, 'height': 185}, 'player92': {'past': [5, 12, 1, 8, 14], 'target': 9, 'age': 21, 'height': 178}, 'player93': {'past': [13, 2, 11, 18, 1, 14], 'target': 15, 'age': 24, 'height': 176}, 'player94': {'past': [3, 14], 'target': 3, 'age': 30, 'height': 182}, 'player95': {'past': [15, 5, 17, 2, 3, 11, 12, 4, 18], 'target': 8, 'age': 35, 'height': 198}, 'player96': {'past': [3, 18, 5, 4, 9, 9, 10, 18, 3, 2], 'target': 15, 'age': 29, 'height': 180}, 'player97': {'past': [15, 11, 4], 'target': 16, 'age': 25, 'height': 196}, 'player98': {'past': [14, 19, 12, 18], 'target': 13, 'age': 32, 'height': 197}, 'player99': {'past': [4, 14, 9, 14], 'target': 12, 'age': 31, 'height': 190}, 'player100': {'past': [6], 'target': 4, 'age': 27, 'height': 179}, 'player101': {'past': [12, 10, 10, 11], 'target': 18, 'age': 19, 'height': 172}, 'player102': {'past': [6, 1, 12, 17, 4, 3, 5, 14], 'target': 7, 'age': 29, 'height': 193}, 'player103': {'past': [2, 11, 2, 15, 4, 10, 8, 6, 16, 8], 'target': 7, 'age': 35, 'height': 180}, 'player104': {'past': [12], 'target': 9, 'age': 22, 'height': 186}, 'player105': {'past': [2, 13, 4, 14], 'target': 7, 'age': 38, 'height': 195}, 'player106': {'past': [15, 2, 8, 3, 9, 17, 6, 9], 'target': 17, 'age': 20, 'height': 174}, 'player107': {'past': [18, 4, 15, 12, 17, 10, 17, 12], 'target': 13, 'age': 25, 'height': 173}, 'player108': {'past': [11, 12, 17, 6, 11, 6], 'target': 9, 'age': 32, 'height': 195}, 'player109': {'past': [11], 'target': 9, 'age': 19, 'height': 180}, 'player110': {'past': [3, 15, 11, 13, 2, 9, 5, 9, 15, 9], 'target': 9, 'age': 19, 'height': 177}, 'player111': {'past': [17, 7, 11, 18, 12, 5, 5, 2, 10, 1], 'target': 13, 'age': 35, 'height': 189}, 'player112': {'past': [6, 7, 16], 'target': 12, 'age': 30, 'height': 200}, 'player113': {'past': [1, 7, 9, 18], 'target': 4, 'age': 31, 'height': 198}, 'player114': {'past': [3, 9, 6, 17, 7, 8, 3, 19, 3], 'target': 3, 'age': 25, 'height': 183}, 'player115': {'past': [10, 6, 6, 12, 4, 17, 17, 9, 9, 6], 'target': 7, 'age': 22, 'height': 177}, 'player116': {'past': [17], 'target': 3, 'age': 40, 'height': 188}, 'player117': {'past': [19, 10, 17, 8, 1, 3], 'target': 17, 'age': 23, 'height': 182}, 'player118': {'past': [16, 5, 14], 'target': 14, 'age': 19, 'height': 179}, 'player119': {'past': [16, 18, 10, 4, 13, 12, 9, 6, 1], 'target': 20, 'age': 19, 'height': 174}, 'player120': {'past': [14, 4, 12, 13, 14, 1, 8, 15, 11, 2], 'target': 5, 'age': 40, 'height': 173}, 'player121': {'past': [5, 2, 10, 1, 6, 18], 'target': 13, 'age': 38, 'height': 191}, 'player122': {'past': [9, 14, 10, 13, 13, 9], 'target': 15, 'age': 36, 'height': 195}, 'player123': {'past': [17, 11, 1], 'target': 12, 'age': 26, 'height': 185}, 'player124': {'past': [18, 1, 17, 6, 9, 3], 'target': 12, 'age': 20, 'height': 187}, 'player125': {'past': [19, 13], 'target': 20, 'age': 38, 'height': 193}, 'player126': {'past': [11, 13, 2, 2], 'target': 19, 'age': 19, 'height': 186}, 'player127': {'past': [19, 11], 'target': 14, 'age': 31, 'height': 175}, 'player128': {'past': [8, 10, 11, 18, 19], 'target': 5, 'age': 38, 'height': 186}, 'player129': {'past': [14, 15, 5, 6, 5, 16, 3, 5, 8, 11], 'target': 1, 'age': 33, 'height': 173}, 'player130': {'past': [16, 8], 'target': 3, 'age': 22, 'height': 181}, 'player131': {'past': [2, 9, 14, 14], 'target': 9, 'age': 32, 'height': 170}, 'player132': {'past': [7, 16, 11, 12], 'target': 14, 'age': 32, 'height': 186}, 'player133': {'past': [7, 7, 13], 'target': 7, 'age': 21, 'height': 179}, 'player134': {'past': [4, 12, 1, 2, 16, 11, 2, 3, 1, 11], 'target': 12, 'age': 21, 'height': 199}, 'player135': {'past': [6, 5, 2, 10, 6, 8], 'target': 16, 'age': 38, 'height': 178}, 'player136': {'past': [15, 17, 2, 15, 14, 1, 18], 'target': 12, 'age': 29, 'height': 181}, 'player137': {'past': [2], 'target': 12, 'age': 40, 'height': 183}, 'player138': {'past': [3, 16, 15, 12, 8, 7, 12], 'target': 12, 'age': 30, 'height': 176}, 'player139': {'past': [17, 6, 7, 1], 'target': 5, 'age': 36, 'height': 184}, 'player140': {'past': [13, 4, 16, 11, 3, 3], 'target': 17, 'age': 18, 'height': 185}, 'player141': {'past': [11, 13, 17, 17], 'target': 15, 'age': 29, 'height': 174}, 'player142': {'past': [1, 10, 11, 1, 3, 5, 10, 1, 8, 8], 'target': 8, 'age': 18, 'height': 184}, 'player143': {'past': [2, 18, 17], 'target': 19, 'age': 32, 'height': 180}, 'player144': {'past': [13, 11, 16, 6], 'target': 5, 'age': 35, 'height': 177}, 'player145': {'past': [1, 7, 19, 19, 6, 5, 5, 16, 11, 18], 'target': 15, 'age': 23, 'height': 174}, 'player146': {'past': [10, 3, 12, 19, 12], 'target': 19, 'age': 36, 'height': 200}, 'player147': {'past': [17, 2, 6, 8, 12, 2], 'target': 11, 'age': 20, 'height': 171}, 'player148': {'past': [1, 9], 'target': 5, 'age': 25, 'height': 172}, 'player149': {'past': [8, 4, 4, 12, 18, 1, 18], 'target': 11, 'age': 33, 'height': 193}, 'player150': {'past': [4, 5, 19, 11, 17, 9, 15, 7], 'target': 5, 'age': 36, 'height': 197}}\n"
     ]
    }
   ],
   "source": [
    "# Exemple de séries temporelles pour plusieurs joueurs\n",
    "with open('time_on_ice_data.json', 'r') as f:\n",
    "    time_on_ice = json.load(f)\n",
    "\n",
    "# Trouver la longueur maximale des séries temporelles pour faire du padding\n",
    "max_length = max([len(player['past']) for player in time_on_ice.values()])\n",
    "\n",
    "# Separer en training/testing\n",
    "\n",
    "# Convertir le dictionnaire time_on_ice en une liste de tuples (clé, valeur)\n",
    "time_on_ice_items = list(time_on_ice.items())\n",
    "\n",
    "# Séparer en ensemble d'entraînement et de test (80% training, 20% testing)\n",
    "train_data, test_data = train_test_split(time_on_ice_items, test_size=0.01, random_state=42)\n",
    "\n",
    "# Reconvertir les ensembles en dictionnaires\n",
    "train_dict = dict(train_data)\n",
    "test_dict = dict(test_data)\n",
    "\n",
    "# Afficher la taille de chaque ensemble\n",
    "print(f\"Taille de l'ensemble d'entraînement : {len(train_dict)}\")\n",
    "print(f\"Taille de l'ensemble de test : {len(test_dict)}\")\n",
    "print(time_on_ice)"
   ]
  },
  {
   "cell_type": "code",
   "execution_count": 3,
   "metadata": {},
   "outputs": [
    {
     "data": {
      "text/plain": [
       "array([20, 15, 18, 17, 12,  8, 17,  6, 13,  8, 14, 17, 11, 16,  7, 13,\n",
       "       10,  7,  2,  5,  7,  1, 14, 19,  9,  5, 18, 18,  6,  6, 17, 15,\n",
       "        8, 11,  2,  9, 16, 13, 19, 10, 19,  7,  1, 12, 12, 12, 17,  9,\n",
       "       16, 17, 15, 20, 12,  7, 16, 17, 18,  8, 12, 10,  5, 11,  8, 15,\n",
       "       15, 14, 15, 13,  3, 19,  5,  7, 14,  4, 11, 10, 14,  3, 12, 12,\n",
       "       14,  5,  1,  5,  7, 12, 16,  3, 12, 13, 12, 16, 12,  9, 16,  9,\n",
       "        5, 19,  4,  6, 12,  7, 12, 12,  4, 18,  8, 14,  2, 14, 10,  3,\n",
       "        8, 17, 19,  5,  7, 12,  9,  8, 11, 11,  4,  6,  9, 20, 16, 11,\n",
       "       15,  3,  4, 15,  7, 14,  9,  9,  4, 17,  4, 15, 15,  5,  7, 10,\n",
       "       13, 10, 15,  7])"
      ]
     },
     "execution_count": null,
     "metadata": {},
     "output_type": "execute_result"
    }
   ],
   "source": [
    "# Extraire les cibles et les variables fixes (âge, grandeur)\n",
    "targets = np.array([player['target'] for player in train_dict.values()])\n",
    "ages = np.array([player['age'] for player in train_dict.values()])\n",
    "heights = np.array([player['height'] for player in train_dict.values()])\n",
    "\n",
    "targets"
   ]
  },
  {
   "cell_type": "code",
   "execution_count": 4,
   "metadata": {},
   "outputs": [
    {
     "name": "stdout",
     "output_type": "stream",
     "text": [
      "[[0, 16, 18, 10, 4, 13, 12, 9, 6, 1], [0, 0, 0, 18, 19, 5, 8, 5, 12, 9], [0, 0, 0, 0, 0, 0, 0, 0, 16, 7], [0, 12, 14, 1, 13, 12, 11, 10, 16, 19], [0, 0, 0, 4, 17, 15, 5, 7, 17, 15], [1, 10, 11, 1, 3, 5, 10, 1, 8, 8], [0, 0, 0, 0, 0, 0, 0, 0, 0, 6], [0, 0, 0, 0, 0, 0, 0, 1, 2, 15], [17, 7, 11, 18, 12, 5, 5, 2, 10, 1], [0, 0, 0, 8, 16, 9, 1, 19, 14, 15], [0, 0, 0, 8, 18, 12, 7, 5, 10, 9], [0, 3, 8, 3, 18, 13, 12, 3, 16, 18], [0, 0, 0, 0, 0, 6, 18, 19, 5, 13], [0, 0, 0, 0, 0, 0, 0, 0, 18, 9], [0, 0, 0, 0, 0, 0, 2, 13, 4, 14], [0, 0, 0, 0, 0, 0, 0, 0, 6, 16], [0, 0, 0, 0, 0, 0, 10, 15, 13, 19], [0, 0, 0, 0, 0, 0, 0, 7, 7, 13], [0, 0, 0, 0, 0, 0, 2, 1, 17, 16], [0, 0, 0, 0, 0, 8, 10, 11, 18, 19], [0, 13, 15, 5, 6, 1, 10, 1, 2, 4], [14, 15, 5, 6, 5, 16, 3, 5, 8, 11], [0, 0, 0, 0, 0, 0, 7, 16, 11, 12], [0, 0, 0, 0, 0, 10, 3, 12, 19, 12], [0, 0, 0, 0, 0, 0, 0, 0, 0, 11], [0, 0, 0, 0, 0, 0, 13, 11, 16, 6], [0, 0, 0, 0, 0, 0, 0, 0, 0, 7], [0, 0, 1, 18, 7, 12, 6, 6, 6, 18], [0, 0, 0, 0, 0, 0, 0, 0, 0, 12], [0, 0, 0, 0, 0, 0, 0, 0, 0, 13], [0, 0, 10, 11, 9, 9, 12, 18, 19, 11], [0, 0, 0, 0, 0, 0, 8, 18, 16, 16], [0, 0, 0, 0, 0, 0, 0, 0, 16, 10], [0, 0, 0, 0, 17, 2, 6, 8, 12, 2], [0, 0, 0, 0, 0, 0, 4, 10, 12, 19], [0, 0, 0, 6, 3, 7, 19, 8, 9, 16], [0, 3, 1, 16, 18, 16, 16, 16, 19, 4], [0, 0, 0, 0, 0, 0, 9, 4, 1, 5], [0, 0, 0, 0, 0, 0, 0, 2, 18, 17], [0, 0, 0, 0, 0, 0, 5, 1, 9, 11], [0, 0, 0, 0, 0, 0, 0, 3, 17, 1], [0, 17, 8, 17, 12, 8, 16, 5, 17, 6], [0, 0, 0, 0, 0, 0, 6, 2, 4, 9], [0, 0, 0, 0, 0, 0, 0, 7, 12, 14], [4, 12, 1, 2, 16, 11, 2, 3, 1, 11], [0, 0, 0, 3, 16, 15, 12, 8, 7, 12], [0, 0, 0, 0, 0, 0, 0, 16, 16, 4], [3, 15, 11, 13, 2, 9, 5, 9, 15, 9], [0, 0, 0, 0, 0, 0, 0, 15, 11, 4], [0, 0, 15, 2, 8, 3, 9, 17, 6, 9], [0, 0, 0, 16, 16, 16, 19, 10, 19, 3], [0, 0, 0, 0, 0, 0, 0, 0, 13, 13], [0, 0, 0, 0, 0, 0, 0, 17, 11, 1], [9, 5, 17, 5, 6, 17, 8, 13, 1, 6], [0, 0, 0, 9, 17, 10, 5, 2, 6, 18], [0, 0, 0, 0, 0, 0, 0, 19, 5, 9], [8, 3, 9, 18, 13, 11, 11, 1, 8, 8], [0, 0, 0, 0, 0, 0, 0, 0, 14, 6], [0, 0, 0, 0, 18, 1, 17, 6, 9, 3], [0, 0, 0, 0, 0, 0, 0, 0, 5, 1], [0, 0, 0, 0, 0, 0, 0, 13, 19, 1], [0, 0, 0, 2, 10, 17, 5, 1, 9, 2], [0, 15, 5, 17, 2, 3, 11, 12, 4, 18], [0, 0, 0, 0, 0, 0, 0, 0, 3, 16], [3, 18, 5, 4, 9, 9, 10, 18, 3, 2], [0, 0, 0, 0, 0, 0, 0, 16, 5, 14], [13, 2, 11, 3, 13, 15, 1, 8, 18, 4], [0, 0, 0, 0, 0, 0, 14, 19, 12, 18], [0, 3, 9, 6, 17, 7, 8, 3, 19, 3], [0, 0, 14, 18, 19, 3, 9, 17, 8, 15], [0, 0, 0, 0, 0, 0, 17, 6, 7, 1], [0, 0, 6, 1, 12, 17, 4, 3, 5, 14], [0, 0, 0, 0, 13, 18, 14, 3, 1, 5], [1, 12, 5, 9, 17, 12, 14, 10, 8, 7], [0, 0, 0, 8, 4, 4, 12, 18, 1, 18], [0, 0, 15, 2, 11, 7, 17, 10, 6, 9], [0, 0, 0, 13, 12, 9, 17, 3, 16, 14], [0, 0, 0, 0, 0, 0, 0, 0, 3, 14], [0, 0, 0, 0, 0, 0, 0, 6, 7, 16], [0, 0, 0, 0, 0, 0, 0, 7, 8, 19], [0, 0, 0, 5, 7, 8, 2, 12, 12, 19], [0, 0, 0, 0, 0, 0, 0, 0, 11, 3], [0, 0, 0, 0, 9, 2, 18, 17, 7, 6], [0, 0, 0, 0, 0, 0, 0, 0, 5, 1], [10, 6, 6, 12, 4, 17, 17, 9, 9, 6], [18, 13, 7, 5, 6, 9, 10, 6, 19, 12], [3, 7, 6, 19, 1, 10, 5, 8, 18, 5], [0, 0, 0, 6, 13, 9, 18, 5, 3, 3], [0, 0, 0, 0, 0, 0, 4, 14, 9, 14], [0, 0, 0, 0, 5, 2, 10, 1, 6, 18], [0, 0, 0, 0, 9, 9, 2, 13, 9, 8], [0, 0, 0, 0, 6, 5, 2, 10, 6, 8], [0, 0, 0, 15, 17, 2, 15, 14, 1, 18], [0, 0, 0, 0, 0, 0, 6, 1, 2, 11], [0, 0, 0, 0, 0, 0, 0, 0, 4, 14], [0, 0, 0, 0, 0, 17, 7, 6, 18, 1], [14, 4, 12, 13, 14, 1, 8, 15, 11, 2], [0, 0, 0, 0, 0, 0, 11, 13, 2, 2], [0, 0, 0, 0, 0, 0, 6, 3, 10, 19], [0, 0, 0, 0, 0, 0, 0, 0, 2, 10], [0, 2, 15, 19, 14, 5, 1, 15, 10, 13], [0, 0, 17, 5, 18, 5, 4, 11, 18, 14], [0, 0, 0, 0, 0, 0, 0, 0, 0, 2], [0, 0, 0, 0, 0, 1, 9, 15, 11, 5], [0, 0, 0, 0, 0, 0, 1, 7, 9, 18], [0, 0, 0, 0, 0, 0, 12, 10, 10, 11], [0, 0, 0, 1, 16, 13, 5, 1, 19, 6], [0, 0, 0, 0, 0, 19, 8, 4, 4, 4], [0, 13, 9, 11, 10, 9, 3, 16, 16, 12], [0, 0, 0, 0, 0, 0, 0, 0, 19, 11], [0, 0, 0, 0, 0, 0, 0, 0, 10, 10], [0, 0, 0, 0, 0, 0, 0, 0, 0, 17], [0, 0, 0, 12, 6, 11, 11, 7, 2, 9], [0, 0, 0, 0, 13, 4, 16, 11, 3, 3], [0, 0, 0, 14, 8, 13, 10, 5, 11, 15], [0, 0, 0, 0, 0, 0, 0, 0, 1, 9], [0, 11, 17, 3, 19, 14, 6, 12, 3, 12], [0, 0, 3, 18, 18, 2, 2, 10, 18, 9], [0, 0, 0, 0, 0, 5, 12, 1, 8, 14], [0, 0, 0, 0, 3, 2, 7, 13, 14, 9], [0, 0, 0, 0, 0, 0, 0, 18, 8, 16], [0, 0, 0, 0, 0, 0, 0, 0, 0, 12], [0, 0, 0, 19, 6, 8, 9, 11, 6, 5], [0, 0, 0, 13, 8, 12, 11, 17, 13, 1], [0, 0, 0, 0, 11, 12, 17, 6, 11, 6], [0, 0, 0, 0, 0, 0, 0, 0, 19, 13], [0, 0, 0, 0, 9, 11, 15, 15, 5, 7], [0, 0, 0, 19, 13, 8, 14, 6, 17, 11], [1, 7, 19, 19, 6, 5, 5, 16, 11, 18], [0, 0, 0, 0, 0, 0, 0, 0, 16, 8], [13, 8, 8, 7, 16, 2, 16, 17, 4, 6], [0, 0, 0, 0, 0, 0, 11, 13, 17, 17], [0, 0, 2, 10, 7, 14, 13, 16, 7, 9], [15, 16, 3, 8, 17, 9, 4, 19, 4, 12], [0, 0, 0, 0, 0, 0, 2, 9, 14, 14], [0, 0, 0, 0, 0, 0, 0, 0, 0, 12], [0, 0, 0, 0, 0, 0, 0, 0, 0, 6], [0, 0, 0, 0, 19, 10, 17, 8, 1, 3], [0, 0, 5, 18, 3, 8, 9, 3, 2, 19], [0, 0, 15, 8, 14, 9, 15, 16, 10, 5], [0, 0, 0, 0, 9, 14, 10, 13, 13, 9], [0, 0, 4, 5, 19, 11, 17, 9, 15, 7], [0, 0, 0, 0, 0, 9, 15, 17, 11, 6], [0, 0, 0, 0, 0, 0, 19, 13, 7, 7], [0, 0, 18, 4, 15, 12, 17, 10, 17, 12], [0, 0, 0, 0, 0, 0, 0, 0, 0, 16], [0, 0, 0, 0, 13, 2, 11, 18, 1, 14], [2, 11, 2, 15, 4, 10, 8, 6, 16, 8]]\n",
      "[[0, 16, 18, 10, 4, 13, 12, 9, 6, 1], [0, 0, 0, 18, 19, 5, 8, 5, 12, 9], [0, 0, 0, 0, 0, 0, 0, 0, 16, 7], [0, 12, 14, 1, 13, 12, 11, 10, 16, 19], [0, 0, 0, 4, 17, 15, 5, 7, 17, 15], [1, 10, 11, 1, 3, 5, 10, 1, 8, 8], [0, 0, 0, 0, 0, 0, 0, 0, 0, 6], [0, 0, 0, 0, 0, 0, 0, 1, 2, 15], [17, 7, 11, 18, 12, 5, 5, 2, 10, 1], [0, 0, 0, 8, 16, 9, 1, 19, 14, 15], [0, 0, 0, 8, 18, 12, 7, 5, 10, 9], [0, 3, 8, 3, 18, 13, 12, 3, 16, 18], [0, 0, 0, 0, 0, 6, 18, 19, 5, 13], [0, 0, 0, 0, 0, 0, 0, 0, 18, 9], [0, 0, 0, 0, 0, 0, 2, 13, 4, 14], [0, 0, 0, 0, 0, 0, 0, 0, 6, 16], [0, 0, 0, 0, 0, 0, 10, 15, 13, 19], [0, 0, 0, 0, 0, 0, 0, 7, 7, 13], [0, 0, 0, 0, 0, 0, 2, 1, 17, 16], [0, 0, 0, 0, 0, 8, 10, 11, 18, 19], [0, 13, 15, 5, 6, 1, 10, 1, 2, 4], [14, 15, 5, 6, 5, 16, 3, 5, 8, 11], [0, 0, 0, 0, 0, 0, 7, 16, 11, 12], [0, 0, 0, 0, 0, 10, 3, 12, 19, 12], [0, 0, 0, 0, 0, 0, 0, 0, 0, 11], [0, 0, 0, 0, 0, 0, 13, 11, 16, 6], [0, 0, 0, 0, 0, 0, 0, 0, 0, 7], [0, 0, 1, 18, 7, 12, 6, 6, 6, 18], [0, 0, 0, 0, 0, 0, 0, 0, 0, 12], [0, 0, 0, 0, 0, 0, 0, 0, 0, 13], [0, 0, 10, 11, 9, 9, 12, 18, 19, 11], [0, 0, 0, 0, 0, 0, 8, 18, 16, 16], [0, 0, 0, 0, 0, 0, 0, 0, 16, 10], [0, 0, 0, 0, 17, 2, 6, 8, 12, 2], [0, 0, 0, 0, 0, 0, 4, 10, 12, 19], [0, 0, 0, 6, 3, 7, 19, 8, 9, 16], [0, 3, 1, 16, 18, 16, 16, 16, 19, 4], [0, 0, 0, 0, 0, 0, 9, 4, 1, 5], [0, 0, 0, 0, 0, 0, 0, 2, 18, 17], [0, 0, 0, 0, 0, 0, 5, 1, 9, 11], [0, 0, 0, 0, 0, 0, 0, 3, 17, 1], [0, 17, 8, 17, 12, 8, 16, 5, 17, 6], [0, 0, 0, 0, 0, 0, 6, 2, 4, 9], [0, 0, 0, 0, 0, 0, 0, 7, 12, 14], [4, 12, 1, 2, 16, 11, 2, 3, 1, 11], [0, 0, 0, 3, 16, 15, 12, 8, 7, 12], [0, 0, 0, 0, 0, 0, 0, 16, 16, 4], [3, 15, 11, 13, 2, 9, 5, 9, 15, 9], [0, 0, 0, 0, 0, 0, 0, 15, 11, 4], [0, 0, 15, 2, 8, 3, 9, 17, 6, 9], [0, 0, 0, 16, 16, 16, 19, 10, 19, 3], [0, 0, 0, 0, 0, 0, 0, 0, 13, 13], [0, 0, 0, 0, 0, 0, 0, 17, 11, 1], [9, 5, 17, 5, 6, 17, 8, 13, 1, 6], [0, 0, 0, 9, 17, 10, 5, 2, 6, 18], [0, 0, 0, 0, 0, 0, 0, 19, 5, 9], [8, 3, 9, 18, 13, 11, 11, 1, 8, 8], [0, 0, 0, 0, 0, 0, 0, 0, 14, 6], [0, 0, 0, 0, 18, 1, 17, 6, 9, 3], [0, 0, 0, 0, 0, 0, 0, 0, 5, 1], [0, 0, 0, 0, 0, 0, 0, 13, 19, 1], [0, 0, 0, 2, 10, 17, 5, 1, 9, 2], [0, 15, 5, 17, 2, 3, 11, 12, 4, 18], [0, 0, 0, 0, 0, 0, 0, 0, 3, 16], [3, 18, 5, 4, 9, 9, 10, 18, 3, 2], [0, 0, 0, 0, 0, 0, 0, 16, 5, 14], [13, 2, 11, 3, 13, 15, 1, 8, 18, 4], [0, 0, 0, 0, 0, 0, 14, 19, 12, 18], [0, 3, 9, 6, 17, 7, 8, 3, 19, 3], [0, 0, 14, 18, 19, 3, 9, 17, 8, 15], [0, 0, 0, 0, 0, 0, 17, 6, 7, 1], [0, 0, 6, 1, 12, 17, 4, 3, 5, 14], [0, 0, 0, 0, 13, 18, 14, 3, 1, 5], [1, 12, 5, 9, 17, 12, 14, 10, 8, 7], [0, 0, 0, 8, 4, 4, 12, 18, 1, 18], [0, 0, 15, 2, 11, 7, 17, 10, 6, 9], [0, 0, 0, 13, 12, 9, 17, 3, 16, 14], [0, 0, 0, 0, 0, 0, 0, 0, 3, 14], [0, 0, 0, 0, 0, 0, 0, 6, 7, 16], [0, 0, 0, 0, 0, 0, 0, 7, 8, 19], [0, 0, 0, 5, 7, 8, 2, 12, 12, 19], [0, 0, 0, 0, 0, 0, 0, 0, 11, 3], [0, 0, 0, 0, 9, 2, 18, 17, 7, 6], [0, 0, 0, 0, 0, 0, 0, 0, 5, 1], [10, 6, 6, 12, 4, 17, 17, 9, 9, 6], [18, 13, 7, 5, 6, 9, 10, 6, 19, 12], [3, 7, 6, 19, 1, 10, 5, 8, 18, 5], [0, 0, 0, 6, 13, 9, 18, 5, 3, 3], [0, 0, 0, 0, 0, 0, 4, 14, 9, 14], [0, 0, 0, 0, 5, 2, 10, 1, 6, 18], [0, 0, 0, 0, 9, 9, 2, 13, 9, 8], [0, 0, 0, 0, 6, 5, 2, 10, 6, 8], [0, 0, 0, 15, 17, 2, 15, 14, 1, 18], [0, 0, 0, 0, 0, 0, 6, 1, 2, 11], [0, 0, 0, 0, 0, 0, 0, 0, 4, 14], [0, 0, 0, 0, 0, 17, 7, 6, 18, 1], [14, 4, 12, 13, 14, 1, 8, 15, 11, 2], [0, 0, 0, 0, 0, 0, 11, 13, 2, 2], [0, 0, 0, 0, 0, 0, 6, 3, 10, 19], [0, 0, 0, 0, 0, 0, 0, 0, 2, 10], [0, 2, 15, 19, 14, 5, 1, 15, 10, 13], [0, 0, 17, 5, 18, 5, 4, 11, 18, 14], [0, 0, 0, 0, 0, 0, 0, 0, 0, 2], [0, 0, 0, 0, 0, 1, 9, 15, 11, 5], [0, 0, 0, 0, 0, 0, 1, 7, 9, 18], [0, 0, 0, 0, 0, 0, 12, 10, 10, 11], [0, 0, 0, 1, 16, 13, 5, 1, 19, 6], [0, 0, 0, 0, 0, 19, 8, 4, 4, 4], [0, 13, 9, 11, 10, 9, 3, 16, 16, 12], [0, 0, 0, 0, 0, 0, 0, 0, 19, 11], [0, 0, 0, 0, 0, 0, 0, 0, 10, 10], [0, 0, 0, 0, 0, 0, 0, 0, 0, 17], [0, 0, 0, 12, 6, 11, 11, 7, 2, 9], [0, 0, 0, 0, 13, 4, 16, 11, 3, 3], [0, 0, 0, 14, 8, 13, 10, 5, 11, 15], [0, 0, 0, 0, 0, 0, 0, 0, 1, 9], [0, 11, 17, 3, 19, 14, 6, 12, 3, 12], [0, 0, 3, 18, 18, 2, 2, 10, 18, 9], [0, 0, 0, 0, 0, 5, 12, 1, 8, 14], [0, 0, 0, 0, 3, 2, 7, 13, 14, 9], [0, 0, 0, 0, 0, 0, 0, 18, 8, 16], [0, 0, 0, 0, 0, 0, 0, 0, 0, 12], [0, 0, 0, 19, 6, 8, 9, 11, 6, 5], [0, 0, 0, 13, 8, 12, 11, 17, 13, 1], [0, 0, 0, 0, 11, 12, 17, 6, 11, 6], [0, 0, 0, 0, 0, 0, 0, 0, 19, 13], [0, 0, 0, 0, 9, 11, 15, 15, 5, 7], [0, 0, 0, 19, 13, 8, 14, 6, 17, 11], [1, 7, 19, 19, 6, 5, 5, 16, 11, 18], [0, 0, 0, 0, 0, 0, 0, 0, 16, 8], [13, 8, 8, 7, 16, 2, 16, 17, 4, 6], [0, 0, 0, 0, 0, 0, 11, 13, 17, 17], [0, 0, 2, 10, 7, 14, 13, 16, 7, 9], [15, 16, 3, 8, 17, 9, 4, 19, 4, 12], [0, 0, 0, 0, 0, 0, 2, 9, 14, 14], [0, 0, 0, 0, 0, 0, 0, 0, 0, 12], [0, 0, 0, 0, 0, 0, 0, 0, 0, 6], [0, 0, 0, 0, 19, 10, 17, 8, 1, 3], [0, 0, 5, 18, 3, 8, 9, 3, 2, 19], [0, 0, 15, 8, 14, 9, 15, 16, 10, 5], [0, 0, 0, 0, 9, 14, 10, 13, 13, 9], [0, 0, 4, 5, 19, 11, 17, 9, 15, 7], [0, 0, 0, 0, 0, 9, 15, 17, 11, 6], [0, 0, 0, 0, 0, 0, 19, 13, 7, 7], [0, 0, 18, 4, 15, 12, 17, 10, 17, 12], [0, 0, 0, 0, 0, 0, 0, 0, 0, 16], [0, 0, 0, 0, 13, 2, 11, 18, 1, 14], [2, 11, 2, 15, 4, 10, 8, 6, 16, 8]]\n"
     ]
    }
   ],
   "source": [
    "# Padding des séries temporelles pour qu'elles aient toutes la même longueur\n",
    "padded_series = [\n",
    "    [0] * (max_length - len(player['past'])) + player['past']\n",
    "    for player in train_dict.values()\n",
    "]\n",
    "\n",
    "print(padded_series)\n",
    "\n",
    "# Transformer les données en matrices (entrée pour le LSTM)\n",
    "X_time_series = np.array(padded_series).reshape(len(train_dict), max_length, 1)\n",
    "X_fixed = np.column_stack((ages, heights))  # Variables fixes"
   ]
  },
  {
   "cell_type": "code",
   "execution_count": 35,
   "metadata": {},
   "outputs": [],
   "source": [
    "# Définir les dimensions\n",
    "num_players = len(train_dict)  # Nombre de joueurs (3 dans cet exemple)\n",
    "num_fixed_features = X_fixed.shape[1]  # Nombre de variables fixes (2 ici: âge, grandeur)\n",
    "\n",
    "# Définir les entrées pour le modèle LSTM\n",
    "input_time_series = Input(shape=(max_length, 1), name=\"time_series_input\")\n",
    "input_fixed = Input(shape=(num_fixed_features,), name=\"fixed_input\")"
   ]
  },
  {
   "cell_type": "code",
   "execution_count": 36,
   "metadata": {},
   "outputs": [],
   "source": [
    "# LSTM pour les séries temporelles\n",
    "lstm_output = LSTM(units=50, activation='relu')(input_time_series)\n",
    "\n",
    "# Combiner la sortie du LSTM avec les variables fixes\n",
    "combined = Concatenate()([lstm_output, input_fixed])\n",
    "\n",
    "# Ajouter une couche dense pour la prédiction finale\n",
    "output = Dense(1)(combined)"
   ]
  },
  {
   "cell_type": "code",
   "execution_count": 37,
   "metadata": {},
   "outputs": [],
   "source": [
    "# Définir et compiler le modèle\n",
    "model = Model(inputs=[input_time_series, input_fixed], outputs=output)\n",
    "model.compile(optimizer='adam', loss='mse')"
   ]
  },
  {
   "cell_type": "code",
   "execution_count": 38,
   "metadata": {},
   "outputs": [
    {
     "name": "stdout",
     "output_type": "stream",
     "text": [
      "\u001b[1mModel: \"functional_1\"\u001b[0m\n",
      "\u001b[1mModel: \"functional_1\"\u001b[0m\n"
     ]
    },
    {
     "name": "stdout",
     "output_type": "stream",
     "text": [
      "┏━━━━━━━━━━━━━━━━━━━━━━━┳━━━━━━━━━━━━━━━━━━━━━┳━━━━━━━━━━━━━┳━━━━━━━━━━━━━━━━━━━━━┓\n",
      "┃\u001b[1m \u001b[0m\u001b[1mLayer (type)         \u001b[0m\u001b[1m \u001b[0m┃\u001b[1m \u001b[0m\u001b[1mOutput Shape       \u001b[0m\u001b[1m \u001b[0m┃\u001b[1m \u001b[0m\u001b[1m    Param #\u001b[0m\u001b[1m \u001b[0m┃\u001b[1m \u001b[0m\u001b[1mConnected to       \u001b[0m\u001b[1m \u001b[0m┃\n",
      "┡━━━━━━━━━━━━━━━━━━━━━━━╇━━━━━━━━━━━━━━━━━━━━━╇━━━━━━━━━━━━━╇━━━━━━━━━━━━━━━━━━━━━┩\n",
      "│ time_series_input     │ (\u001b[38;5;45mNone\u001b[0m, \u001b[38;5;34m10\u001b[0m, \u001b[38;5;34m1\u001b[0m)       │           \u001b[38;5;34m0\u001b[0m │ -                   │\n",
      "│ (\u001b[38;5;33mInputLayer\u001b[0m)          │                     │             │                     │\n",
      "├───────────────────────┼─────────────────────┼─────────────┼─────────────────────┤\n",
      "│ lstm_1 (\u001b[38;5;33mLSTM\u001b[0m)         │ (\u001b[38;5;45mNone\u001b[0m, \u001b[38;5;34m50\u001b[0m)          │      \u001b[38;5;34m10,400\u001b[0m │ time_series_input[\u001b[38;5;34m…\u001b[0m │\n",
      "├───────────────────────┼─────────────────────┼─────────────┼─────────────────────┤\n",
      "│ fixed_input           │ (\u001b[38;5;45mNone\u001b[0m, \u001b[38;5;34m2\u001b[0m)           │           \u001b[38;5;34m0\u001b[0m │ -                   │\n",
      "│ (\u001b[38;5;33mInputLayer\u001b[0m)          │                     │             │                     │\n",
      "├───────────────────────┼─────────────────────┼─────────────┼─────────────────────┤\n",
      "│ concatenate_1         │ (\u001b[38;5;45mNone\u001b[0m, \u001b[38;5;34m52\u001b[0m)          │           \u001b[38;5;34m0\u001b[0m │ lstm_1[\u001b[38;5;34m0\u001b[0m][\u001b[38;5;34m0\u001b[0m],       │\n",
      "│ (\u001b[38;5;33mConcatenate\u001b[0m)         │                     │             │ fixed_input[\u001b[38;5;34m0\u001b[0m][\u001b[38;5;34m0\u001b[0m]   │\n",
      "├───────────────────────┼─────────────────────┼─────────────┼─────────────────────┤\n",
      "│ dense_1 (\u001b[38;5;33mDense\u001b[0m)       │ (\u001b[38;5;45mNone\u001b[0m, \u001b[38;5;34m1\u001b[0m)           │          \u001b[38;5;34m53\u001b[0m │ concatenate_1[\u001b[38;5;34m0\u001b[0m][\u001b[38;5;34m0\u001b[0m] │\n",
      "└───────────────────────┴─────────────────────┴─────────────┴─────────────────────┘\n",
      "┏━━━━━━━━━━━━━━━━━━━━━━━┳━━━━━━━━━━━━━━━━━━━━━┳━━━━━━━━━━━━━┳━━━━━━━━━━━━━━━━━━━━━┓\n",
      "┃\u001b[1m \u001b[0m\u001b[1mLayer (type)         \u001b[0m\u001b[1m \u001b[0m┃\u001b[1m \u001b[0m\u001b[1mOutput Shape       \u001b[0m\u001b[1m \u001b[0m┃\u001b[1m \u001b[0m\u001b[1m    Param #\u001b[0m\u001b[1m \u001b[0m┃\u001b[1m \u001b[0m\u001b[1mConnected to       \u001b[0m\u001b[1m \u001b[0m┃\n",
      "┡━━━━━━━━━━━━━━━━━━━━━━━╇━━━━━━━━━━━━━━━━━━━━━╇━━━━━━━━━━━━━╇━━━━━━━━━━━━━━━━━━━━━┩\n",
      "│ time_series_input     │ (\u001b[38;5;45mNone\u001b[0m, \u001b[38;5;34m10\u001b[0m, \u001b[38;5;34m1\u001b[0m)       │           \u001b[38;5;34m0\u001b[0m │ -                   │\n",
      "│ (\u001b[38;5;33mInputLayer\u001b[0m)          │                     │             │                     │\n",
      "├───────────────────────┼─────────────────────┼─────────────┼─────────────────────┤\n",
      "│ lstm_1 (\u001b[38;5;33mLSTM\u001b[0m)         │ (\u001b[38;5;45mNone\u001b[0m, \u001b[38;5;34m50\u001b[0m)          │      \u001b[38;5;34m10,400\u001b[0m │ time_series_input[\u001b[38;5;34m…\u001b[0m │\n",
      "├───────────────────────┼─────────────────────┼─────────────┼─────────────────────┤\n",
      "│ fixed_input           │ (\u001b[38;5;45mNone\u001b[0m, \u001b[38;5;34m2\u001b[0m)           │           \u001b[38;5;34m0\u001b[0m │ -                   │\n",
      "│ (\u001b[38;5;33mInputLayer\u001b[0m)          │                     │             │                     │\n",
      "├───────────────────────┼─────────────────────┼─────────────┼─────────────────────┤\n",
      "│ concatenate_1         │ (\u001b[38;5;45mNone\u001b[0m, \u001b[38;5;34m52\u001b[0m)          │           \u001b[38;5;34m0\u001b[0m │ lstm_1[\u001b[38;5;34m0\u001b[0m][\u001b[38;5;34m0\u001b[0m],       │\n",
      "│ (\u001b[38;5;33mConcatenate\u001b[0m)         │                     │             │ fixed_input[\u001b[38;5;34m0\u001b[0m][\u001b[38;5;34m0\u001b[0m]   │\n",
      "├───────────────────────┼─────────────────────┼─────────────┼─────────────────────┤\n",
      "│ dense_1 (\u001b[38;5;33mDense\u001b[0m)       │ (\u001b[38;5;45mNone\u001b[0m, \u001b[38;5;34m1\u001b[0m)           │          \u001b[38;5;34m53\u001b[0m │ concatenate_1[\u001b[38;5;34m0\u001b[0m][\u001b[38;5;34m0\u001b[0m] │\n",
      "└───────────────────────┴─────────────────────┴─────────────┴─────────────────────┘\n"
     ]
    },
    {
     "name": "stdout",
     "output_type": "stream",
     "text": [
      "\u001b[1m Total params: \u001b[0m\u001b[38;5;34m10,453\u001b[0m (40.83 KB)\n",
      "\u001b[1m Total params: \u001b[0m\u001b[38;5;34m10,453\u001b[0m (40.83 KB)\n"
     ]
    },
    {
     "name": "stdout",
     "output_type": "stream",
     "text": [
      "\u001b[1m Trainable params: \u001b[0m\u001b[38;5;34m10,453\u001b[0m (40.83 KB)\n",
      "\u001b[1m Trainable params: \u001b[0m\u001b[38;5;34m10,453\u001b[0m (40.83 KB)\n"
     ]
    },
    {
     "name": "stdout",
     "output_type": "stream",
     "text": [
      "\u001b[1m Non-trainable params: \u001b[0m\u001b[38;5;34m0\u001b[0m (0.00 B)\n",
      "\u001b[1m Non-trainable params: \u001b[0m\u001b[38;5;34m0\u001b[0m (0.00 B)\n"
     ]
    }
   ],
   "source": [
    "# Afficher le résumé du modèle\n",
    "model.summary()"
   ]
  },
  {
   "cell_type": "code",
   "execution_count": null,
   "metadata": {},
   "outputs": [],
   "source": [
    "# Entraîner le modèle avec les données\n",
    "model.fit([X_time_series, X_fixed], targets, epochs=100, batch_size=1)"
   ]
  },
  {
   "cell_type": "code",
   "execution_count": 42,
   "metadata": {},
   "outputs": [
    {
     "name": "stdout",
     "output_type": "stream",
     "text": [
      "\r\u001b[1m1/1\u001b[0m \u001b[32m━━━━━━━━━━━━━━━━━━━━\u001b[0m\u001b[37m\u001b[0m \u001b[1m0s\u001b[0m 17ms/step\r\u001b[1m1/1\u001b[0m \u001b[32m━━━━━━━━━━━━━━━━━━━━\u001b[0m\u001b[37m\u001b[0m \u001b[1m0s\u001b[0m 17ms/step"
     ]
    },
    {
     "name": "stdout",
     "output_type": "stream",
     "text": [
      "\b\b\b\b\b\b\b\b\b\b\b\b\b\b\b\b\b\b\b\b\b\b\b\b\b\b\b\b\b\b\b\b\b\b\b\b\b\r\u001b[1m1/1\u001b[0m \u001b[32m━━━━━━━━━━━━━━━━━━━━\u001b[0m\u001b[37m\u001b[0m \u001b[1m0s\u001b[0m 18ms/step\n",
      "\b\b\b\b\b\b\b\b\b\b\b\b\b\b\b\b\b\b\b\b\b\b\b\b\b\b\b\b\b\b\b\b\b\b\b\b\b\r\u001b[1m1/1\u001b[0m \u001b[32m━━━━━━━━━━━━━━━━━━━━\u001b[0m\u001b[37m\u001b[0m \u001b[1m0s\u001b[0m 18ms/step\n"
     ]
    },
    {
     "name": "stdout",
     "output_type": "stream",
     "text": [
      "[[17]\n",
      " [17]\n",
      " [11]\n",
      " [11]\n",
      " [ 4]\n",
      " [12]\n",
      " [ 7]\n",
      " [14]\n",
      " [11]\n",
      " [ 7]]\n",
      "Prediction: [10.150367]\n",
      "[[17]\n",
      " [17]\n",
      " [11]\n",
      " [11]\n",
      " [ 4]\n",
      " [12]\n",
      " [ 7]\n",
      " [14]\n",
      " [11]\n",
      " [ 7]]\n",
      "Prediction: [10.150367]\n"
     ]
    }
   ],
   "source": [
    "# Padding des séries temporelles pour qu'elles aient toutes la même longueur\n",
    "padded_series_test = [\n",
    "    [0] * (max_length - len(player['past'])) + player['past']\n",
    "    for player in test_dict.values()\n",
    "]\n",
    "ages = np.array([player['age'] for player in test_dict.values()])\n",
    "heights = np.array([player['height'] for player in test_dict.values()])\n",
    "\n",
    "# Transformer les données en matrices (entrée pour le LSTM)\n",
    "X_time_series_test = np.array(padded_series_test).reshape(len(test_dict), max_length, 1)\n",
    "X_fixed_test = np.column_stack((ages, heights))  # Variables fixes\n",
    "\n",
    "# Faire des prédictions après l'entraînement\n",
    "predictions = model.predict([X_time_series_test, X_fixed_test])\n",
    "print(X_time_series_test[1])\n",
    "print(\"Prediction:\", predictions[1])\n"
   ]
  }
 ],
 "metadata": {
  "language_info": {
   "name": "python"
  }
 },
 "nbformat": 4,
 "nbformat_minor": 2
}
